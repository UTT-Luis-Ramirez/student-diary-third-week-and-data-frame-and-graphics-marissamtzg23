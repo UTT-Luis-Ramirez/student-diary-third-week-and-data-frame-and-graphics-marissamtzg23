{
  "nbformat": 4,
  "nbformat_minor": 0,
  "metadata": {
    "colab": {
      "provenance": []
    },
    "kernelspec": {
      "name": "python3",
      "display_name": "Python 3"
    },
    "language_info": {
      "name": "python"
    }
  },
  "cells": [
    {
      "cell_type": "markdown",
      "source": [
        "#**PROBABILIDAD Y ESTADISTICA**\n",
        "\n",
        "**Evaluación de conocimientos:**\n",
        "\n",
        "---\n",
        "###*TERMINO*###\n",
        "---\n",
        "**Probabilidad**\n",
        "\n",
        "**Estadística**\n",
        "\n",
        "**Dato**\n",
        "\n",
        "**Evento**\n",
        "\n",
        "**Axiomas**\n",
        "\n",
        "**Teoría del caos**\n",
        "\n",
        "**Teoría de conjuntos**\n",
        "\n",
        "\n",
        "---\n",
        "###*¿QUÉ SE?*###\n",
        "---\n",
        "*  **La probabilidad** es aquella rama de la estadística que estudia los cambios de evento.\n",
        "\n",
        "*  **La estadística** es la ciencia que estudia los datos.\n",
        "\n",
        "*  **Un dato** son los hechos ya ocurridos.\n",
        "\n",
        "*  **Un evento** son los hechos a ocurrir o las posibilidades.\n",
        "\n",
        "*  **Un axioma** es una proposición o declarativo que no requiere demostración.\n",
        "\n",
        "*  **La Teoría de caos** es aquella que nos dice que al minimo cambio de algo o una minima casualidad, puede causar grandes cambios o movimientos a futuro.\n",
        "\n",
        "*  **La Teoría de conjuntos** es la que afirma que todo forma parte un un grupo o conjunto superior (dividiendose en Universo, Población y Muestra).\n"
      ],
      "metadata": {
        "id": "M4wuyJpo0UfK"
      }
    },
    {
      "cell_type": "markdown",
      "source": [],
      "metadata": {
        "id": "h2USkJhH0XdC"
      }
    }
  ]
}